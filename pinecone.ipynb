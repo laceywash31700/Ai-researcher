{
 "cells": [
  {
   "cell_type": "code",
   "execution_count": 1,
   "id": "cdae1629",
   "metadata": {},
   "outputs": [],
   "source": [
    "from constants import embedding_model\n",
    "from index_manager_pinecone import IndexManagerPinecone"
   ]
  },
  {
   "cell_type": "code",
   "execution_count": 2,
   "id": "c33aff02",
   "metadata": {},
   "outputs": [],
   "source": [
    "index_manager = IndexManagerPinecone(embedding_model, index_name=\"ai-research-paper-assistant\")"
   ]
  },
  {
   "cell_type": "code",
   "execution_count": 3,
   "id": "a26e961e",
   "metadata": {},
   "outputs": [
    {
     "name": "stderr",
     "output_type": "stream",
     "text": [
      "2025-04-21 14:25:50,785 - arxiv - INFO - Requesting page (first: True, try: 0): https://export.arxiv.org/api/query?search_query=all%3A%22Language+Models%22&id_list=&sortBy=submittedDate&sortOrder=descending&start=0&max_results=100\n",
      "2025-04-21 14:25:51,955 - arxiv - INFO - Got first page: 100 of 51971 total results\n",
      "2025-04-21 14:25:51,957 - tools - INFO - Found 5 papers for query: 'Language Models'\n",
      "2025-04-21 14:25:51,959 - index_manager - INFO - Fetched and cached 5 papers\n"
     ]
    }
   ],
   "source": [
    "index_manager.fetch_and_cache_papers('Language Models', 5 )"
   ]
  },
  {
   "cell_type": "code",
   "execution_count": 4,
   "id": "752fe885",
   "metadata": {},
   "outputs": [
    {
     "name": "stderr",
     "output_type": "stream",
     "text": [
      "2025-04-21 14:25:53,355 - httpx - INFO - HTTP Request: POST https://api.openai.com/v1/embeddings \"HTTP/1.1 200 OK\"\n"
     ]
    },
    {
     "data": {
      "application/vnd.jupyter.widget-view+json": {
       "model_id": "f27f1d11e35d461688fa3f729b4b1706",
       "version_major": 2,
       "version_minor": 0
      },
      "text/plain": [
       "Upserted vectors:   0%|          | 0/5 [00:00<?, ?it/s]"
      ]
     },
     "metadata": {},
     "output_type": "display_data"
    }
   ],
   "source": [
    "index_manager.create_index()"
   ]
  },
  {
   "cell_type": "code",
   "execution_count": 5,
   "id": "893d26ce",
   "metadata": {},
   "outputs": [
    {
     "data": {
      "text/plain": [
       "<llama_index.core.indices.vector_store.base.VectorStoreIndex at 0x171409d2780>"
      ]
     },
     "execution_count": 5,
     "metadata": {},
     "output_type": "execute_result"
    }
   ],
   "source": [
    "index_manager.retrive_index()"
   ]
  },
  {
   "cell_type": "code",
   "execution_count": 6,
   "id": "8c60dadc",
   "metadata": {},
   "outputs": [
    {
     "name": "stdout",
     "output_type": "stream",
     "text": [
      "Title: Generative AI Act II: Test Time Scaling Drives Cognition Engineering, Authors: Shijie Xia, Yiwei Qin, Xuefeng Li, Yan Ma, Run-Ze Fan, Steffi Chern, Haoyang Zou, Fan Zhou, Xiangkun Hu, Jiahe Jin, Yanheng He, Yixin Ye, Yixiu Liu, Pengfei Liu\n",
      "Title: Feature Alignment and Representation Transfer in Knowledge Distillation for Large Language Models, Authors: Junjie Yang, Junhao Song, Xudong Han, Ziqian Bi, Tianyang Wang, Chia Xin Liang, Xinyuan Song, Yichao Zhang, Qian Niu, Benji Peng, Keyu Chen, Ming Liu\n",
      "Title: Not All Rollouts are Useful: Down-Sampling Rollouts in LLM Reinforcement Learning, Authors: Yixuan Even Xu, Yash Savani, Fei Fang, Zico Kolter\n",
      "Title: BadApex: Backdoor Attack Based on Adaptive Optimization Mechanism of Black-box Large Language Models, Authors: Zhengxian Wu, Juan Wen, Wanli Peng, Ziwei Zhang, Yinghan Zhou, Yiming Xue\n",
      "Title: DP2Unlearning: An Efficient and Guaranteed Unlearning Framework for LLMs, Authors: Tamim Al Mahmud, Najeeb Jebreel, Josep Domingo-Ferrer, David Sanchez\n"
     ]
    }
   ],
   "source": [
    "index_manager.list_papers()"
   ]
  }
 ],
 "metadata": {
  "kernelspec": {
   "display_name": ".venv",
   "language": "python",
   "name": "python3"
  },
  "language_info": {
   "codemirror_mode": {
    "name": "ipython",
    "version": 3
   },
   "file_extension": ".py",
   "mimetype": "text/x-python",
   "name": "python",
   "nbconvert_exporter": "python",
   "pygments_lexer": "ipython3",
   "version": "3.12.7"
  }
 },
 "nbformat": 4,
 "nbformat_minor": 5
}
