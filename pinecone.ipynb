{
 "cells": [
  {
   "cell_type": "code",
   "execution_count": 1,
   "id": "cdae1629",
   "metadata": {},
   "outputs": [],
   "source": [
    "from constants import embedding_model\n",
    "from index_manager_pinecone import IndexManagerPinecone"
   ]
  },
  {
   "cell_type": "code",
   "execution_count": 2,
   "id": "c33aff02",
   "metadata": {},
   "outputs": [],
   "source": [
    "index_manager = IndexManagerPinecone(embedding_model, index_name=\"ai-research-paper-assistant\")"
   ]
  },
  {
   "cell_type": "code",
   "execution_count": 3,
   "id": "a26e961e",
   "metadata": {},
   "outputs": [
    {
     "name": "stderr",
     "output_type": "stream",
     "text": [
      "2025-04-22 16:04:54,856 - index_manager - INFO - Fetching papers for topic: historical law\n",
      "2025-04-22 16:04:54,858 - arxiv - INFO - Requesting page (first: True, try: 0): https://export.arxiv.org/api/query?search_query=all%3A%22historical+law%22&id_list=&sortBy=submittedDate&sortOrder=descending&start=0&max_results=100\n",
      "2025-04-22 16:04:55,352 - arxiv - INFO - Got first page: 2 of 2 total results\n",
      "2025-04-22 16:04:55,352 - tools - INFO - Found 2 papers for query: 'historical law'\n",
      "2025-04-22 16:04:55,356 - index_manager - INFO - Successfully fetched and cached 2 papers\n"
     ]
    }
   ],
   "source": [
    "index_manager.fetch_and_cache_papers('historical law', 5 )"
   ]
  },
  {
   "cell_type": "code",
   "execution_count": 4,
   "id": "752fe885",
   "metadata": {},
   "outputs": [
    {
     "data": {
      "application/vnd.jupyter.widget-view+json": {
       "model_id": "93106ff747e24e3db6450b89fd24360e",
       "version_major": 2,
       "version_minor": 0
      },
      "text/plain": [
       "Parsing nodes:   0%|          | 0/2 [00:00<?, ?it/s]"
      ]
     },
     "metadata": {},
     "output_type": "display_data"
    },
    {
     "data": {
      "application/vnd.jupyter.widget-view+json": {
       "model_id": "732195f499fd4b66989d04804323115e",
       "version_major": 2,
       "version_minor": 0
      },
      "text/plain": [
       "Generating embeddings:   0%|          | 0/2 [00:00<?, ?it/s]"
      ]
     },
     "metadata": {},
     "output_type": "display_data"
    },
    {
     "name": "stderr",
     "output_type": "stream",
     "text": [
      "2025-04-22 16:04:57,928 - httpx - INFO - HTTP Request: POST https://api.openai.com/v1/embeddings \"HTTP/1.1 200 OK\"\n"
     ]
    },
    {
     "data": {
      "application/vnd.jupyter.widget-view+json": {
       "model_id": "67748de2594b40c780e486a83487b46d",
       "version_major": 2,
       "version_minor": 0
      },
      "text/plain": [
       "Upserted vectors:   0%|          | 0/2 [00:00<?, ?it/s]"
      ]
     },
     "metadata": {},
     "output_type": "display_data"
    }
   ],
   "source": [
    "index_manager.create_index()"
   ]
  },
  {
   "cell_type": "code",
   "execution_count": 5,
   "id": "893d26ce",
   "metadata": {},
   "outputs": [
    {
     "data": {
      "text/plain": [
       "<llama_index.core.indices.vector_store.base.VectorStoreIndex at 0x24f79ec7c80>"
      ]
     },
     "execution_count": 5,
     "metadata": {},
     "output_type": "execute_result"
    }
   ],
   "source": [
    "index_manager.retrieve_index()"
   ]
  },
  {
   "cell_type": "code",
   "execution_count": 6,
   "id": "8c60dadc",
   "metadata": {},
   "outputs": [
    {
     "name": "stdout",
     "output_type": "stream",
     "text": [
      "Title: Research on rolling friction's dependence on ball bearings' radius, Authors: Grzegorz M. Koczan, Juliusz Ziomek\n",
      "Title: A historical law of large numbers for the Marcus Lushnikov process, Authors: Stéphanie Jacquot\n"
     ]
    }
   ],
   "source": [
    "index_manager.list_papers()"
   ]
  }
 ],
 "metadata": {
  "kernelspec": {
   "display_name": ".venv",
   "language": "python",
   "name": "python3"
  },
  "language_info": {
   "codemirror_mode": {
    "name": "ipython",
    "version": 3
   },
   "file_extension": ".py",
   "mimetype": "text/x-python",
   "name": "python",
   "nbconvert_exporter": "python",
   "pygments_lexer": "ipython3",
   "version": "3.12.7"
  }
 },
 "nbformat": 4,
 "nbformat_minor": 5
}
